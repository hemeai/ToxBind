{
 "cells": [
  {
   "cell_type": "code",
   "execution_count": 1,
   "metadata": {},
   "outputs": [],
   "source": [
    "import json \n",
    "import boto3"
   ]
  },
  {
   "cell_type": "code",
   "execution_count": 3,
   "metadata": {},
   "outputs": [
    {
     "data": {
      "text/plain": [
       "dict_keys(['aws_access_key_id', 'aws_secret_access_key'])"
      ]
     },
     "execution_count": 3,
     "metadata": {},
     "output_type": "execute_result"
    }
   ],
   "source": [
    "config_data = json.load(open('./../config.json'))\n",
    "aws_access_key_id = config_data['aws_access_key_id']\n",
    "aws_secret_access_key = config_data['aws_secret_access_key']\n",
    "config_data.keys()"
   ]
  },
  {
   "cell_type": "code",
   "execution_count": 4,
   "metadata": {},
   "outputs": [],
   "source": [
    "# create a s3 client\n",
    "s3_client = boto3.client('s3', aws_access_key_id=aws_access_key_id, aws_secret_access_key=aws_secret_access_key)"
   ]
  },
  {
   "cell_type": "code",
   "execution_count": 5,
   "metadata": {},
   "outputs": [
    {
     "name": "stdout",
     "output_type": "stream",
     "text": [
      "Folders in S3 bucket:\n",
      "adaptyv-bio-pdc\n",
      "pipeline.png\n",
      "snake-venom-binder\n"
     ]
    }
   ],
   "source": [
    "## list all folder in a s3 bucket \n",
    "import boto3\n",
    "\n",
    "def list_s3_folders(bucket_name):\n",
    "    s3_client = boto3.client('s3')\n",
    "    \n",
    "    # List objects in the bucket\n",
    "    paginator = s3_client.get_paginator('list_objects_v2')\n",
    "    pages = paginator.paginate(Bucket=bucket_name)\n",
    "    \n",
    "    folders = set()\n",
    "    \n",
    "    for page in pages:\n",
    "        if 'Contents' in page:\n",
    "            for obj in page['Contents']:\n",
    "                key = obj['Key']\n",
    "                # Extract the folder name\n",
    "                folder = key.split('/')[0]\n",
    "                folders.add(folder)\n",
    "    \n",
    "    return sorted(folders)\n",
    "\n",
    "bucket_name = 'bindcraft'\n",
    "folders = list_s3_folders(bucket_name)\n",
    "print(\"Folders in S3 bucket:\")\n",
    "for folder in folders:\n",
    "    print(folder)"
   ]
  },
  {
   "cell_type": "code",
   "execution_count": 10,
   "metadata": {},
   "outputs": [
    {
     "name": "stdout",
     "output_type": "stream",
     "text": [
      "Downloaded 2502152323/Accepted/1yi5_l88_s585564_mpnn12_model1.pdb to ./out/bindcraft/2502152323/Accepted/1yi5_l88_s585564_mpnn12_model1.pdb\n",
      "Downloaded 2502152323/Accepted/1yi5_l88_s585564_mpnn5_model1.pdb to ./out/bindcraft/2502152323/Accepted/1yi5_l88_s585564_mpnn5_model1.pdb\n",
      "Downloaded 2502152323/Accepted/Animation/1yi5_l88_s585564.html to ./out/bindcraft/2502152323/Accepted/Animation/1yi5_l88_s585564.html\n",
      "Downloaded 2502152323/Accepted/Plots/1yi5_l88_s585564_con.png to ./out/bindcraft/2502152323/Accepted/Plots/1yi5_l88_s585564_con.png\n",
      "Downloaded 2502152323/Accepted/Plots/1yi5_l88_s585564_i_con.png to ./out/bindcraft/2502152323/Accepted/Plots/1yi5_l88_s585564_i_con.png\n",
      "Downloaded 2502152323/Accepted/Plots/1yi5_l88_s585564_i_pae.png to ./out/bindcraft/2502152323/Accepted/Plots/1yi5_l88_s585564_i_pae.png\n",
      "Downloaded 2502152323/Accepted/Plots/1yi5_l88_s585564_i_ptm.png to ./out/bindcraft/2502152323/Accepted/Plots/1yi5_l88_s585564_i_ptm.png\n",
      "Downloaded 2502152323/Accepted/Plots/1yi5_l88_s585564_loss.png to ./out/bindcraft/2502152323/Accepted/Plots/1yi5_l88_s585564_loss.png\n",
      "Downloaded 2502152323/Accepted/Plots/1yi5_l88_s585564_pae.png to ./out/bindcraft/2502152323/Accepted/Plots/1yi5_l88_s585564_pae.png\n",
      "Downloaded 2502152323/Accepted/Plots/1yi5_l88_s585564_plddt.png to ./out/bindcraft/2502152323/Accepted/Plots/1yi5_l88_s585564_plddt.png\n",
      "Downloaded 2502152323/Accepted/Plots/1yi5_l88_s585564_ptm.png to ./out/bindcraft/2502152323/Accepted/Plots/1yi5_l88_s585564_ptm.png\n",
      "Downloaded 2502152323/Accepted/Plots/1yi5_l88_s585564_rg.png to ./out/bindcraft/2502152323/Accepted/Plots/1yi5_l88_s585564_rg.png\n",
      "Downloaded 2502152323/Accepted/Ranked/1_1yi5_l88_s585564_mpnn5_model1.pdb to ./out/bindcraft/2502152323/Accepted/Ranked/1_1yi5_l88_s585564_mpnn5_model1.pdb\n",
      "Downloaded 2502152323/Accepted/Ranked/2_1yi5_l88_s585564_mpnn12_model1.pdb to ./out/bindcraft/2502152323/Accepted/Ranked/2_1yi5_l88_s585564_mpnn12_model1.pdb\n",
      "Downloaded 2502152323/MPNN/Relaxed/1yi5_l88_s585564_mpnn12_model1.pdb to ./out/bindcraft/2502152323/MPNN/Relaxed/1yi5_l88_s585564_mpnn12_model1.pdb\n",
      "Downloaded 2502152323/MPNN/Relaxed/1yi5_l88_s585564_mpnn12_model2.pdb to ./out/bindcraft/2502152323/MPNN/Relaxed/1yi5_l88_s585564_mpnn12_model2.pdb\n",
      "Downloaded 2502152323/MPNN/Relaxed/1yi5_l88_s585564_mpnn4_model1.pdb to ./out/bindcraft/2502152323/MPNN/Relaxed/1yi5_l88_s585564_mpnn4_model1.pdb\n",
      "Downloaded 2502152323/MPNN/Relaxed/1yi5_l88_s585564_mpnn4_model2.pdb to ./out/bindcraft/2502152323/MPNN/Relaxed/1yi5_l88_s585564_mpnn4_model2.pdb\n",
      "Downloaded 2502152323/MPNN/Relaxed/1yi5_l88_s585564_mpnn5_model1.pdb to ./out/bindcraft/2502152323/MPNN/Relaxed/1yi5_l88_s585564_mpnn5_model1.pdb\n",
      "Downloaded 2502152323/MPNN/Relaxed/1yi5_l88_s585564_mpnn5_model2.pdb to ./out/bindcraft/2502152323/MPNN/Relaxed/1yi5_l88_s585564_mpnn5_model2.pdb\n",
      "Downloaded 2502152323/MPNN/Relaxed/1yi5_l88_s585564_mpnn7_model1.pdb to ./out/bindcraft/2502152323/MPNN/Relaxed/1yi5_l88_s585564_mpnn7_model1.pdb\n",
      "Downloaded 2502152323/MPNN/Relaxed/1yi5_l88_s585564_mpnn7_model2.pdb to ./out/bindcraft/2502152323/MPNN/Relaxed/1yi5_l88_s585564_mpnn7_model2.pdb\n",
      "Downloaded 2502152323/Rejected/1yi5_l88_s585564_mpnn4_model1.pdb to ./out/bindcraft/2502152323/Rejected/1yi5_l88_s585564_mpnn4_model1.pdb\n",
      "Downloaded 2502152323/Rejected/1yi5_l88_s585564_mpnn7_model2.pdb to ./out/bindcraft/2502152323/Rejected/1yi5_l88_s585564_mpnn7_model2.pdb\n",
      "Downloaded 2502152323/Trajectory/Animation.zip to ./out/bindcraft/2502152323/Trajectory/Animation.zip\n",
      "Downloaded 2502152323/Trajectory/LowConfidence/1yi5_l76_s944872.pdb to ./out/bindcraft/2502152323/Trajectory/LowConfidence/1yi5_l76_s944872.pdb\n",
      "Downloaded 2502152323/Trajectory/LowConfidence/1yi5_l82_s511622.pdb to ./out/bindcraft/2502152323/Trajectory/LowConfidence/1yi5_l82_s511622.pdb\n",
      "Downloaded 2502152323/Trajectory/LowConfidence/1yi5_l84_s516185.pdb to ./out/bindcraft/2502152323/Trajectory/LowConfidence/1yi5_l84_s516185.pdb\n",
      "Downloaded 2502152323/Trajectory/LowConfidence/1yi5_l96_s160223.pdb to ./out/bindcraft/2502152323/Trajectory/LowConfidence/1yi5_l96_s160223.pdb\n",
      "Downloaded 2502152323/Trajectory/Plots.zip to ./out/bindcraft/2502152323/Trajectory/Plots.zip\n",
      "Downloaded 2502152323/Trajectory/Relaxed/1yi5_l74_s804565.pdb to ./out/bindcraft/2502152323/Trajectory/Relaxed/1yi5_l74_s804565.pdb\n",
      "Downloaded 2502152323/Trajectory/Relaxed/1yi5_l74_s875743.pdb to ./out/bindcraft/2502152323/Trajectory/Relaxed/1yi5_l74_s875743.pdb\n",
      "Downloaded 2502152323/Trajectory/Relaxed/1yi5_l75_s164196.pdb to ./out/bindcraft/2502152323/Trajectory/Relaxed/1yi5_l75_s164196.pdb\n",
      "Downloaded 2502152323/Trajectory/Relaxed/1yi5_l75_s345383.pdb to ./out/bindcraft/2502152323/Trajectory/Relaxed/1yi5_l75_s345383.pdb\n",
      "Downloaded 2502152323/Trajectory/Relaxed/1yi5_l79_s303306.pdb to ./out/bindcraft/2502152323/Trajectory/Relaxed/1yi5_l79_s303306.pdb\n",
      "Downloaded 2502152323/Trajectory/Relaxed/1yi5_l80_s446432.pdb to ./out/bindcraft/2502152323/Trajectory/Relaxed/1yi5_l80_s446432.pdb\n",
      "Downloaded 2502152323/Trajectory/Relaxed/1yi5_l85_s82433.pdb to ./out/bindcraft/2502152323/Trajectory/Relaxed/1yi5_l85_s82433.pdb\n",
      "Downloaded 2502152323/Trajectory/Relaxed/1yi5_l88_s585564.pdb to ./out/bindcraft/2502152323/Trajectory/Relaxed/1yi5_l88_s585564.pdb\n",
      "Downloaded 2502152323/Trajectory/Relaxed/1yi5_l92_s403964.pdb to ./out/bindcraft/2502152323/Trajectory/Relaxed/1yi5_l92_s403964.pdb\n",
      "Downloaded 2502152323/Trajectory/Relaxed/1yi5_l95_s2037.pdb to ./out/bindcraft/2502152323/Trajectory/Relaxed/1yi5_l95_s2037.pdb\n",
      "Downloaded 2502152323/failure_csv.csv to ./out/bindcraft/2502152323/failure_csv.csv\n",
      "Downloaded 2502152323/final_design_stats.csv to ./out/bindcraft/2502152323/final_design_stats.csv\n",
      "Downloaded 2502152323/mpnn_design_stats.csv to ./out/bindcraft/2502152323/mpnn_design_stats.csv\n",
      "Downloaded 2502152323/trajectory_stats.csv to ./out/bindcraft/2502152323/trajectory_stats.csv\n"
     ]
    }
   ],
   "source": [
    "import boto3\n",
    "import os\n",
    "\n",
    "def download_s3_folder(bucket_name, s3_folder, local_dir):\n",
    "    s3_client = boto3.client('s3')\n",
    "    \n",
    "    # Ensure the local directory exists\n",
    "    if not os.path.exists(local_dir):\n",
    "        os.makedirs(local_dir)\n",
    "    \n",
    "    # List objects in the specified S3 folder\n",
    "    paginator = s3_client.get_paginator('list_objects_v2')\n",
    "    pages = paginator.paginate(Bucket=bucket_name, Prefix=s3_folder)\n",
    "    \n",
    "    for page in pages:\n",
    "        if 'Contents' in page:\n",
    "            for obj in page['Contents']:\n",
    "                s3_key = obj['Key']\n",
    "                local_file_path = os.path.join(local_dir, os.path.relpath(s3_key, s3_folder))\n",
    "                \n",
    "                # Ensure the local directory exists\n",
    "                local_file_dir = os.path.dirname(local_file_path)\n",
    "                if not os.path.exists(local_file_dir):\n",
    "                    os.makedirs(local_file_dir)\n",
    "                \n",
    "                # Download the file\n",
    "                s3_client.download_file(bucket_name, s3_key, local_file_path)\n",
    "                print(f\"Downloaded {s3_key} to {local_file_path}\")\n",
    "\n",
    "# Example usage\n",
    "bucket_name = 'bindcraft'\n",
    "s3_folder = '2502152323'\n",
    "local_dir = f'./out/bindcraft/{s3_folder}'\n",
    "\n",
    "download_s3_folder(bucket_name, s3_folder, local_dir)"
   ]
  },
  {
   "cell_type": "code",
   "execution_count": 6,
   "metadata": {},
   "outputs": [],
   "source": [
    "# 1. Get S3 folders\n",
    "def get_s3_folders(bucket_name, aws_access_key_id, aws_secret_access_key,\n",
    "                   prefix='snake-venom-binder/'):\n",
    "    \"\"\"\n",
    "    Retrieves a list of top-level folder names from a specified S3 path.\n",
    "    \"\"\"\n",
    "    s3_client = boto3.client('s3',\n",
    "                             aws_access_key_id=aws_access_key_id,\n",
    "                             aws_secret_access_key=aws_secret_access_key)\n",
    "\n",
    "    paginator = s3_client.get_paginator('list_objects_v2')\n",
    "    folders = set()\n",
    "\n",
    "    for page in paginator.paginate(Bucket=bucket_name, Prefix=prefix, Delimiter='/'):\n",
    "        for common_prefix in page.get('CommonPrefixes', []):\n",
    "            # Extract folder name after the main prefix\n",
    "            folder_path = common_prefix.get('Prefix')\n",
    "            if folder_path.startswith(prefix):\n",
    "                folder_name = folder_path[len(prefix):].split('/')[0]\n",
    "                if folder_name: # Ensure it's not an empty string\n",
    "                    folders.add(folder_name)\n",
    "    return sorted(list(folders))"
   ]
  },
  {
   "cell_type": "code",
   "execution_count": 7,
   "metadata": {},
   "outputs": [
    {
     "name": "stdout",
     "output_type": "stream",
     "text": [
      "['2501171452', '2501171625', '2501180040', '2501180802', '2501180828', '2501180951', '2501181203', '2501181208', '2501192206', '2501192248', '2501222051', '2501230908', '2502082313', '2502091148', '2502151901', '2502152311', '2502152323', '2502160913', '2502161339', '2502161344', '2502170019', '2502170139', '2502170839', '2503252313', '2505182302', '2505251415', '2505251549', '2505261957', '2505271950', '2505280823', '2505280909', '2505281945', '2505291641', '2505291648', '2505291923', '2505300903', '2506121050', '2506121235', '2506151920', '2506162158', '2506170912', '2506171955', '2506172008', '2506172015', '2506172129']\n"
     ]
    }
   ],
   "source": [
    "# Load AWS credentials\n",
    "try:\n",
    "    with open('./../config.json', 'r', encoding='utf-8') as f:\n",
    "        config = json.load(f)\n",
    "except FileNotFoundError:\n",
    "    print(\"Error: config.json not found. Please create it with AWS credentials.\")\n",
    "except json.JSONDecodeError:\n",
    "    print(\"Error: config.json is not a valid JSON file.\")\n",
    "  \n",
    "aws_access_key_id = config.get('aws_access_key_id')\n",
    "aws_secret_access_key = config.get('aws_secret_access_key')\n",
    "\n",
    "bucket_name = 'bindcraft'\n",
    "s3_prefix = 'snake-venom-binder/' # Corrected variable name for clarity\n",
    "local_base_download_dir = './../out/bindcraft/snake-venom-binder'\n",
    "\n",
    "# Get all S3 folders with prefix\n",
    "s3_folders = get_s3_folders(bucket_name, aws_access_key_id, aws_secret_access_key, prefix=s3_prefix)\n",
    "print(s3_folders)"
   ]
  },
  {
   "cell_type": "code",
   "execution_count": null,
   "metadata": {},
   "outputs": [],
   "source": []
  }
 ],
 "metadata": {
  "kernelspec": {
   "display_name": "modal",
   "language": "python",
   "name": "python3"
  },
  "language_info": {
   "codemirror_mode": {
    "name": "ipython",
    "version": 3
   },
   "file_extension": ".py",
   "mimetype": "text/x-python",
   "name": "python",
   "nbconvert_exporter": "python",
   "pygments_lexer": "ipython3",
   "version": "3.11.9"
  }
 },
 "nbformat": 4,
 "nbformat_minor": 2
}
