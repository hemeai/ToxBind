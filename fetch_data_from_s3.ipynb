{
 "cells": [
  {
   "cell_type": "code",
   "execution_count": 1,
   "metadata": {},
   "outputs": [],
   "source": [
    "import json \n",
    "import boto3"
   ]
  },
  {
   "cell_type": "code",
   "execution_count": 2,
   "metadata": {},
   "outputs": [
    {
     "data": {
      "text/plain": [
       "dict_keys(['aws_access_key_id', 'aws_secret_access_key'])"
      ]
     },
     "execution_count": 2,
     "metadata": {},
     "output_type": "execute_result"
    }
   ],
   "source": [
    "config_data = json.load(open('config.json'))\n",
    "aws_access_key_id = config_data['aws_access_key_id']\n",
    "aws_secret_access_key = config_data['aws_secret_access_key']\n",
    "config_data.keys()"
   ]
  },
  {
   "cell_type": "code",
   "execution_count": 3,
   "metadata": {},
   "outputs": [],
   "source": [
    "# create a s3 client\n",
    "s3_client = boto3.client('s3', aws_access_key_id=aws_access_key_id, aws_secret_access_key=aws_secret_access_key)"
   ]
  },
  {
   "cell_type": "code",
   "execution_count": 11,
   "metadata": {},
   "outputs": [
    {
     "name": "stdout",
     "output_type": "stream",
     "text": [
      "Folders in S3 bucket:\n",
      "2412111959\n",
      "2412112016\n",
      "2412120836\n",
      "2412120937\n",
      "2412121056\n",
      "2412121103\n",
      "2412121113\n",
      "2412121450\n",
      "2412142141\n",
      "2412150205\n",
      "2412151122\n",
      "2412151123\n",
      "2412151601\n",
      "2412151733\n",
      "2412241939\n",
      "2412242139\n",
      "2412242155\n",
      "2412250028\n",
      "2412250101\n",
      "2412250846\n",
      "2412251003\n",
      "2412252245\n",
      "2412252324\n",
      "2412252352\n",
      "2412260103\n",
      "2412260125\n",
      "2412260835\n",
      "2412261730\n",
      "2412262203\n",
      "2412270114\n",
      "2412270144\n",
      "2412271010\n",
      "2412271030\n",
      "2412271144\n",
      "2412271203\n",
      "2412271605\n",
      "2501171452\n",
      "2501171625\n",
      "2501180040\n",
      "2501180802\n",
      "2501180828\n",
      "pipeline.png\n"
     ]
    }
   ],
   "source": [
    "## list all folder in a s3 bucket \n",
    "import boto3\n",
    "\n",
    "def list_s3_folders(bucket_name):\n",
    "    s3_client = boto3.client('s3')\n",
    "    \n",
    "    # List objects in the bucket\n",
    "    paginator = s3_client.get_paginator('list_objects_v2')\n",
    "    pages = paginator.paginate(Bucket=bucket_name)\n",
    "    \n",
    "    folders = set()\n",
    "    \n",
    "    for page in pages:\n",
    "        if 'Contents' in page:\n",
    "            for obj in page['Contents']:\n",
    "                key = obj['Key']\n",
    "                # Extract the folder name\n",
    "                folder = key.split('/')[0]\n",
    "                folders.add(folder)\n",
    "    \n",
    "    return sorted(folders)\n",
    "\n",
    "bucket_name = 'bindcraft'\n",
    "folders = list_s3_folders(bucket_name)\n",
    "print(\"Folders in S3 bucket:\")\n",
    "for folder in folders:\n",
    "    print(folder)"
   ]
  },
  {
   "cell_type": "code",
   "execution_count": 12,
   "metadata": {},
   "outputs": [
    {
     "name": "stdout",
     "output_type": "stream",
     "text": [
      "Downloaded 2501180828/Accepted/1yi5_l96_s868292_mpnn1_model2.pdb to ./out/bindcraft/2501180828/Accepted/1yi5_l96_s868292_mpnn1_model2.pdb\n",
      "Downloaded 2501180828/Accepted/1yi5_l96_s868292_mpnn2_model1.pdb to ./out/bindcraft/2501180828/Accepted/1yi5_l96_s868292_mpnn2_model1.pdb\n",
      "Downloaded 2501180828/Accepted/Animation/1yi5_l96_s868292.html to ./out/bindcraft/2501180828/Accepted/Animation/1yi5_l96_s868292.html\n",
      "Downloaded 2501180828/Accepted/Plots/1yi5_l96_s868292_con.png to ./out/bindcraft/2501180828/Accepted/Plots/1yi5_l96_s868292_con.png\n",
      "Downloaded 2501180828/Accepted/Plots/1yi5_l96_s868292_i_con.png to ./out/bindcraft/2501180828/Accepted/Plots/1yi5_l96_s868292_i_con.png\n",
      "Downloaded 2501180828/Accepted/Plots/1yi5_l96_s868292_i_pae.png to ./out/bindcraft/2501180828/Accepted/Plots/1yi5_l96_s868292_i_pae.png\n",
      "Downloaded 2501180828/Accepted/Plots/1yi5_l96_s868292_i_ptm.png to ./out/bindcraft/2501180828/Accepted/Plots/1yi5_l96_s868292_i_ptm.png\n",
      "Downloaded 2501180828/Accepted/Plots/1yi5_l96_s868292_loss.png to ./out/bindcraft/2501180828/Accepted/Plots/1yi5_l96_s868292_loss.png\n",
      "Downloaded 2501180828/Accepted/Plots/1yi5_l96_s868292_pae.png to ./out/bindcraft/2501180828/Accepted/Plots/1yi5_l96_s868292_pae.png\n",
      "Downloaded 2501180828/Accepted/Plots/1yi5_l96_s868292_plddt.png to ./out/bindcraft/2501180828/Accepted/Plots/1yi5_l96_s868292_plddt.png\n",
      "Downloaded 2501180828/Accepted/Plots/1yi5_l96_s868292_ptm.png to ./out/bindcraft/2501180828/Accepted/Plots/1yi5_l96_s868292_ptm.png\n",
      "Downloaded 2501180828/Accepted/Plots/1yi5_l96_s868292_rg.png to ./out/bindcraft/2501180828/Accepted/Plots/1yi5_l96_s868292_rg.png\n",
      "Downloaded 2501180828/Accepted/Ranked/1_1yi5_l96_s868292_mpnn1_model2.pdb to ./out/bindcraft/2501180828/Accepted/Ranked/1_1yi5_l96_s868292_mpnn1_model2.pdb\n",
      "Downloaded 2501180828/Accepted/Ranked/2_1yi5_l96_s868292_mpnn2_model1.pdb to ./out/bindcraft/2501180828/Accepted/Ranked/2_1yi5_l96_s868292_mpnn2_model1.pdb\n",
      "Downloaded 2501180828/MPNN/Relaxed/1yi5_l96_s868292_mpnn1_model1.pdb to ./out/bindcraft/2501180828/MPNN/Relaxed/1yi5_l96_s868292_mpnn1_model1.pdb\n",
      "Downloaded 2501180828/MPNN/Relaxed/1yi5_l96_s868292_mpnn1_model2.pdb to ./out/bindcraft/2501180828/MPNN/Relaxed/1yi5_l96_s868292_mpnn1_model2.pdb\n",
      "Downloaded 2501180828/MPNN/Relaxed/1yi5_l96_s868292_mpnn2_model1.pdb to ./out/bindcraft/2501180828/MPNN/Relaxed/1yi5_l96_s868292_mpnn2_model1.pdb\n",
      "Downloaded 2501180828/MPNN/Relaxed/1yi5_l96_s868292_mpnn2_model2.pdb to ./out/bindcraft/2501180828/MPNN/Relaxed/1yi5_l96_s868292_mpnn2_model2.pdb\n",
      "Downloaded 2501180828/Trajectory/Animation.zip to ./out/bindcraft/2501180828/Trajectory/Animation.zip\n",
      "Downloaded 2501180828/Trajectory/Clashing/1yi5_l96_s354817.pdb to ./out/bindcraft/2501180828/Trajectory/Clashing/1yi5_l96_s354817.pdb\n",
      "Downloaded 2501180828/Trajectory/Clashing/1yi5_l96_s479686.pdb to ./out/bindcraft/2501180828/Trajectory/Clashing/1yi5_l96_s479686.pdb\n",
      "Downloaded 2501180828/Trajectory/Clashing/1yi5_l96_s513382.pdb to ./out/bindcraft/2501180828/Trajectory/Clashing/1yi5_l96_s513382.pdb\n",
      "Downloaded 2501180828/Trajectory/LowConfidence/1yi5_l96_s207140.pdb to ./out/bindcraft/2501180828/Trajectory/LowConfidence/1yi5_l96_s207140.pdb\n",
      "Downloaded 2501180828/Trajectory/Plots.zip to ./out/bindcraft/2501180828/Trajectory/Plots.zip\n",
      "Downloaded 2501180828/Trajectory/Relaxed/1yi5_l96_s136056.pdb to ./out/bindcraft/2501180828/Trajectory/Relaxed/1yi5_l96_s136056.pdb\n",
      "Downloaded 2501180828/Trajectory/Relaxed/1yi5_l96_s427796.pdb to ./out/bindcraft/2501180828/Trajectory/Relaxed/1yi5_l96_s427796.pdb\n",
      "Downloaded 2501180828/Trajectory/Relaxed/1yi5_l96_s501306.pdb to ./out/bindcraft/2501180828/Trajectory/Relaxed/1yi5_l96_s501306.pdb\n",
      "Downloaded 2501180828/Trajectory/Relaxed/1yi5_l96_s792695.pdb to ./out/bindcraft/2501180828/Trajectory/Relaxed/1yi5_l96_s792695.pdb\n",
      "Downloaded 2501180828/Trajectory/Relaxed/1yi5_l96_s868292.pdb to ./out/bindcraft/2501180828/Trajectory/Relaxed/1yi5_l96_s868292.pdb\n",
      "Downloaded 2501180828/failure_csv.csv to ./out/bindcraft/2501180828/failure_csv.csv\n",
      "Downloaded 2501180828/final_design_stats.csv to ./out/bindcraft/2501180828/final_design_stats.csv\n",
      "Downloaded 2501180828/mpnn_design_stats.csv to ./out/bindcraft/2501180828/mpnn_design_stats.csv\n",
      "Downloaded 2501180828/trajectory_stats.csv to ./out/bindcraft/2501180828/trajectory_stats.csv\n"
     ]
    }
   ],
   "source": [
    "import boto3\n",
    "import os\n",
    "\n",
    "def download_s3_folder(bucket_name, s3_folder, local_dir):\n",
    "    s3_client = boto3.client('s3')\n",
    "    \n",
    "    # Ensure the local directory exists\n",
    "    if not os.path.exists(local_dir):\n",
    "        os.makedirs(local_dir)\n",
    "    \n",
    "    # List objects in the specified S3 folder\n",
    "    paginator = s3_client.get_paginator('list_objects_v2')\n",
    "    pages = paginator.paginate(Bucket=bucket_name, Prefix=s3_folder)\n",
    "    \n",
    "    for page in pages:\n",
    "        if 'Contents' in page:\n",
    "            for obj in page['Contents']:\n",
    "                s3_key = obj['Key']\n",
    "                local_file_path = os.path.join(local_dir, os.path.relpath(s3_key, s3_folder))\n",
    "                \n",
    "                # Ensure the local directory exists\n",
    "                local_file_dir = os.path.dirname(local_file_path)\n",
    "                if not os.path.exists(local_file_dir):\n",
    "                    os.makedirs(local_file_dir)\n",
    "                \n",
    "                # Download the file\n",
    "                s3_client.download_file(bucket_name, s3_key, local_file_path)\n",
    "                print(f\"Downloaded {s3_key} to {local_file_path}\")\n",
    "\n",
    "# Example usage\n",
    "bucket_name = 'bindcraft'\n",
    "s3_folder = '2501180828'\n",
    "local_dir = f'./out/bindcraft/{s3_folder}'\n",
    "\n",
    "download_s3_folder(bucket_name, s3_folder, local_dir)"
   ]
  },
  {
   "cell_type": "code",
   "execution_count": null,
   "metadata": {},
   "outputs": [],
   "source": []
  }
 ],
 "metadata": {
  "kernelspec": {
   "display_name": "modal",
   "language": "python",
   "name": "python3"
  },
  "language_info": {
   "codemirror_mode": {
    "name": "ipython",
    "version": 3
   },
   "file_extension": ".py",
   "mimetype": "text/x-python",
   "name": "python",
   "nbconvert_exporter": "python",
   "pygments_lexer": "ipython3",
   "version": "3.11.9"
  }
 },
 "nbformat": 4,
 "nbformat_minor": 2
}
